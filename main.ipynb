{
 "cells": [
  {
   "cell_type": "markdown",
   "metadata": {},
   "source": [
    "**INSTALL LIBRARIES**"
   ]
  },
  {
   "cell_type": "code",
   "execution_count": 44,
   "metadata": {},
   "outputs": [
    {
     "name": "stdout",
     "output_type": "stream",
     "text": [
      "Requirement already satisfied: confluent_kafka in c:\\users\\ruanw\\appdata\\local\\programs\\python\\python312\\lib\\site-packages (2.8.0)\n"
     ]
    },
    {
     "name": "stderr",
     "output_type": "stream",
     "text": [
      "\n",
      "[notice] A new release of pip is available: 24.2 -> 25.0\n",
      "[notice] To update, run: python.exe -m pip install --upgrade pip\n"
     ]
    },
    {
     "name": "stdout",
     "output_type": "stream",
     "text": [
      "Requirement already satisfied: polars in c:\\users\\ruanw\\appdata\\local\\programs\\python\\python312\\lib\\site-packages (1.21.0)\n"
     ]
    },
    {
     "name": "stderr",
     "output_type": "stream",
     "text": [
      "\n",
      "[notice] A new release of pip is available: 24.2 -> 25.0\n",
      "[notice] To update, run: python.exe -m pip install --upgrade pip\n"
     ]
    },
    {
     "name": "stdout",
     "output_type": "stream",
     "text": [
      "Requirement already satisfied: requests in c:\\users\\ruanw\\appdata\\local\\programs\\python\\python312\\lib\\site-packages (2.32.3)\n",
      "Requirement already satisfied: charset-normalizer<4,>=2 in c:\\users\\ruanw\\appdata\\local\\programs\\python\\python312\\lib\\site-packages (from requests) (3.4.1)\n",
      "Requirement already satisfied: idna<4,>=2.5 in c:\\users\\ruanw\\appdata\\local\\programs\\python\\python312\\lib\\site-packages (from requests) (3.10)\n",
      "Requirement already satisfied: urllib3<3,>=1.21.1 in c:\\users\\ruanw\\appdata\\local\\programs\\python\\python312\\lib\\site-packages (from requests) (2.3.0)\n",
      "Requirement already satisfied: certifi>=2017.4.17 in c:\\users\\ruanw\\appdata\\local\\programs\\python\\python312\\lib\\site-packages (from requests) (2024.12.14)\n"
     ]
    },
    {
     "name": "stderr",
     "output_type": "stream",
     "text": [
      "\n",
      "[notice] A new release of pip is available: 24.2 -> 25.0\n",
      "[notice] To update, run: python.exe -m pip install --upgrade pip\n"
     ]
    }
   ],
   "source": [
    "! pip install confluent_kafka\n",
    "! pip install polars\n",
    "! pip install requests"
   ]
  },
  {
   "cell_type": "markdown",
   "metadata": {},
   "source": [
    "**DATABASE CONFIGURATION**"
   ]
  },
  {
   "cell_type": "code",
   "execution_count": 45,
   "metadata": {},
   "outputs": [
    {
     "name": "stdout",
     "output_type": "stream",
     "text": [
      "Tabela criada com sucesso!\n"
     ]
    }
   ],
   "source": [
    "import psycopg2\n",
    "\n",
    "db_config = {\n",
    "    'dbname': 'mydatabase',\n",
    "    'user': 'root',\n",
    "    'password': 'root',\n",
    "    'host': 'localhost',\n",
    "    'port': 5432\n",
    "}\n",
    "\n",
    "connection = psycopg2.connect(**db_config)\n",
    "cursor = connection.cursor()\n",
    "\n",
    "create_table_query = \"\"\"\n",
    "CREATE TABLE IF NOT EXISTS stock_data (\n",
    "    id SERIAL PRIMARY KEY,\n",
    "    symbol VARCHAR(10) NOT NULL,\n",
    "    timestamp TIMESTAMP(0) WITHOUT TIME ZONE NOT NULL,\n",
    "    open DECIMAL(10,4),\n",
    "    high DECIMAL(10,4),\n",
    "    low DECIMAL(10,4),\n",
    "    close DECIMAL(10,4),\n",
    "    volume BIGINT,\n",
    "    UNIQUE(symbol, timestamp)\n",
    ");\n",
    "\"\"\"\n",
    "cursor.execute(create_table_query)\n",
    "connection.commit()\n",
    "print(\"Tabela criada com sucesso!\")\n",
    "\n",
    "cursor.close()\n",
    "connection.close()\n"
   ]
  },
  {
   "cell_type": "markdown",
   "metadata": {},
   "source": [
    "**API REQUEST**"
   ]
  },
  {
   "cell_type": "code",
   "execution_count": 46,
   "metadata": {},
   "outputs": [
    {
     "name": "stdout",
     "output_type": "stream",
     "text": [
      "SUcess!\n"
     ]
    },
    {
     "data": {
      "text/html": [
       "<div><style>\n",
       ".dataframe > thead > tr,\n",
       ".dataframe > tbody > tr {\n",
       "  text-align: right;\n",
       "  white-space: pre-wrap;\n",
       "}\n",
       "</style>\n",
       "<small>shape: (5, 7)</small><table border=\"1\" class=\"dataframe\"><thead><tr><th>symbol</th><th>timestamp</th><th>open</th><th>high</th><th>low</th><th>close</th><th>volume</th></tr><tr><td>str</td><td>str</td><td>f64</td><td>f64</td><td>f64</td><td>f64</td><td>i64</td></tr></thead><tbody><tr><td>&quot;IBM&quot;</td><td>&quot;2025-01-28 19:30&quot;</td><td>225.37</td><td>225.55</td><td>225.35</td><td>225.5</td><td>120</td></tr><tr><td>&quot;IBM&quot;</td><td>&quot;2025-01-28 19:00&quot;</td><td>225.66</td><td>225.66</td><td>225.32</td><td>225.5</td><td>881926</td></tr><tr><td>&quot;IBM&quot;</td><td>&quot;2025-01-28 18:30&quot;</td><td>225.66</td><td>225.66</td><td>225.316</td><td>225.55</td><td>881838</td></tr><tr><td>&quot;IBM&quot;</td><td>&quot;2025-01-28 18:00&quot;</td><td>225.48</td><td>225.49</td><td>225.4</td><td>225.4</td><td>381</td></tr><tr><td>&quot;IBM&quot;</td><td>&quot;2025-01-28 17:30&quot;</td><td>225.43</td><td>225.55</td><td>225.31</td><td>225.48</td><td>205</td></tr></tbody></table></div>"
      ],
      "text/plain": [
       "shape: (5, 7)\n",
       "┌────────┬──────────────────┬────────┬────────┬─────────┬────────┬────────┐\n",
       "│ symbol ┆ timestamp        ┆ open   ┆ high   ┆ low     ┆ close  ┆ volume │\n",
       "│ ---    ┆ ---              ┆ ---    ┆ ---    ┆ ---     ┆ ---    ┆ ---    │\n",
       "│ str    ┆ str              ┆ f64    ┆ f64    ┆ f64     ┆ f64    ┆ i64    │\n",
       "╞════════╪══════════════════╪════════╪════════╪═════════╪════════╪════════╡\n",
       "│ IBM    ┆ 2025-01-28 19:30 ┆ 225.37 ┆ 225.55 ┆ 225.35  ┆ 225.5  ┆ 120    │\n",
       "│ IBM    ┆ 2025-01-28 19:00 ┆ 225.66 ┆ 225.66 ┆ 225.32  ┆ 225.5  ┆ 881926 │\n",
       "│ IBM    ┆ 2025-01-28 18:30 ┆ 225.66 ┆ 225.66 ┆ 225.316 ┆ 225.55 ┆ 881838 │\n",
       "│ IBM    ┆ 2025-01-28 18:00 ┆ 225.48 ┆ 225.49 ┆ 225.4   ┆ 225.4  ┆ 381    │\n",
       "│ IBM    ┆ 2025-01-28 17:30 ┆ 225.43 ┆ 225.55 ┆ 225.31  ┆ 225.48 ┆ 205    │\n",
       "└────────┴──────────────────┴────────┴────────┴─────────┴────────┴────────┘"
      ]
     },
     "execution_count": 46,
     "metadata": {},
     "output_type": "execute_result"
    }
   ],
   "source": [
    "import requests\n",
    "import json\n",
    "import polars as pl\n",
    "API_KEY = \"42JIJGRH51L2GBTP\" \n",
    "SYMBOL = \"IBM\"\n",
    "INTERVAL = \"30min\"\n",
    "url = f'https://www.alphavantage.co/query?function=TIME_SERIES_INTRADAY&symbol={SYMBOL}&interval={INTERVAL}&apikey={API_KEY}'\n",
    "\n",
    "response = requests.get(url)\n",
    "data = response.json()\n",
    "\n",
    "time_series_key = f\"Time Series ({INTERVAL})\"\n",
    "if time_series_key not in data:\n",
    "    print(\"Error: Invalid response or requests limit exceeded.\")\n",
    "else:\n",
    "    print(\"SUcess!\")\n",
    "\n",
    "records = []\n",
    "for timestamp, values in data[time_series_key].items():\n",
    "    records.append({\n",
    "        \"symbol\": SYMBOL,\n",
    "        \"timestamp\": timestamp,\n",
    "        \"open\": float(values[\"1. open\"]),\n",
    "        \"high\": float(values[\"2. high\"]),\n",
    "        \"low\": float(values[\"3. low\"]),\n",
    "        \"close\": float(values[\"4. close\"]),\n",
    "        \"volume\": int(values[\"5. volume\"])\n",
    "    })\n",
    "\n",
    "df = pl.DataFrame(records)\n",
    "df = df.with_columns(\n",
    "    pl.col(\"timestamp\").str.to_datetime(\"%Y-%m-%d %H:%M:%S\").dt.strftime(\"%Y-%m-%d %H:%M\")\n",
    ")\n",
    "df.head()\n"
   ]
  },
  {
   "cell_type": "markdown",
   "metadata": {},
   "source": [
    "**SEND DATA TO KAFKA**"
   ]
  },
  {
   "cell_type": "code",
   "execution_count": 47,
   "metadata": {},
   "outputs": [
    {
     "name": "stdout",
     "output_type": "stream",
     "text": [
      "Send to Kafka!\n"
     ]
    }
   ],
   "source": [
    "from confluent_kafka import Producer\n",
    "import json\n",
    "\n",
    "producer_config = {\n",
    "    'bootstrap.servers': 'localhost:9092',\n",
    "    'client.id': 'api-producer'\n",
    "}\n",
    "producer = Producer(producer_config)\n",
    "\n",
    "topic_name = 'stock_data_topic'\n",
    "\n",
    "for row in df.iter_rows(named=True):\n",
    "    record = json.dumps(row) #here hes converte the dictionary to json\n",
    "    producer.produce(topic_name, value=record)\n",
    "\n",
    "producer.flush()\n",
    "print(\"Send to Kafka!\")\n"
   ]
  },
  {
   "cell_type": "markdown",
   "metadata": {},
   "source": [
    "**CONSUME OF KAFKA DATA AND ADD ON POSTGRE**"
   ]
  },
  {
   "cell_type": "code",
   "execution_count": 48,
   "metadata": {},
   "outputs": [
    {
     "name": "stdout",
     "output_type": "stream",
     "text": [
      "Inserido: 2025-01-28 19:30\n",
      "Inserido: 2025-01-28 19:00\n",
      "Inserido: 2025-01-28 18:30\n",
      "Inserido: 2025-01-28 18:00\n",
      "Inserido: 2025-01-28 17:30\n",
      "Inserido: 2025-01-28 17:00\n",
      "Inserido: 2025-01-28 16:30\n",
      "Inserido: 2025-01-28 16:00\n",
      "Inserido: 2025-01-28 15:30\n",
      "Inserido: 2025-01-28 15:00\n",
      "Inserido: 2025-01-28 14:30\n",
      "Inserido: 2025-01-28 14:00\n",
      "Inserido: 2025-01-28 13:30\n",
      "Inserido: 2025-01-28 13:00\n",
      "Inserido: 2025-01-28 12:30\n",
      "Inserido: 2025-01-28 12:00\n",
      "Inserido: 2025-01-28 11:30\n",
      "Inserido: 2025-01-28 11:00\n",
      "Inserido: 2025-01-28 10:30\n",
      "Inserido: 2025-01-28 10:00\n",
      "Inserido: 2025-01-28 09:30\n",
      "Inserido: 2025-01-28 09:00\n",
      "Inserido: 2025-01-28 08:30\n",
      "Inserido: 2025-01-28 08:00\n",
      "Inserido: 2025-01-28 07:30\n",
      "Inserido: 2025-01-28 07:00\n",
      "Inserido: 2025-01-28 06:30\n",
      "Inserido: 2025-01-28 06:00\n",
      "Inserido: 2025-01-28 05:30\n",
      "Inserido: 2025-01-28 05:00\n",
      "Inserido: 2025-01-28 04:30\n",
      "Inserido: 2025-01-28 04:00\n",
      "Inserido: 2025-01-27 19:30\n",
      "Inserido: 2025-01-27 19:00\n",
      "Inserido: 2025-01-27 18:30\n",
      "Inserido: 2025-01-27 18:00\n",
      "Inserido: 2025-01-27 17:30\n",
      "Inserido: 2025-01-27 17:00\n",
      "Inserido: 2025-01-27 16:30\n",
      "Inserido: 2025-01-27 16:00\n",
      "Inserido: 2025-01-27 15:30\n",
      "Inserido: 2025-01-27 15:00\n",
      "Inserido: 2025-01-27 14:30\n",
      "Inserido: 2025-01-27 14:00\n",
      "Inserido: 2025-01-27 13:30\n",
      "Inserido: 2025-01-27 13:00\n",
      "Inserido: 2025-01-27 12:30\n",
      "Inserido: 2025-01-27 12:00\n",
      "Inserido: 2025-01-27 11:30\n",
      "Inserido: 2025-01-27 11:00\n",
      "Inserido: 2025-01-27 10:30\n",
      "Inserido: 2025-01-27 10:00\n",
      "Inserido: 2025-01-27 09:30\n",
      "Inserido: 2025-01-27 09:00\n",
      "Inserido: 2025-01-27 08:30\n",
      "Inserido: 2025-01-27 08:00\n",
      "Inserido: 2025-01-27 07:30\n",
      "Inserido: 2025-01-27 07:00\n",
      "Inserido: 2025-01-27 06:30\n",
      "Inserido: 2025-01-27 06:00\n",
      "Inserido: 2025-01-27 05:30\n",
      "Inserido: 2025-01-27 05:00\n",
      "Inserido: 2025-01-27 04:30\n",
      "Inserido: 2025-01-27 04:00\n",
      "Inserido: 2025-01-24 19:30\n",
      "Inserido: 2025-01-24 19:00\n",
      "Inserido: 2025-01-24 18:30\n",
      "Inserido: 2025-01-24 18:00\n",
      "Inserido: 2025-01-24 17:30\n",
      "Inserido: 2025-01-24 17:00\n",
      "Inserido: 2025-01-24 16:30\n",
      "Inserido: 2025-01-24 16:00\n",
      "Inserido: 2025-01-24 15:30\n",
      "Inserido: 2025-01-24 15:00\n",
      "Inserido: 2025-01-24 14:30\n",
      "Inserido: 2025-01-24 14:00\n",
      "Inserido: 2025-01-24 13:30\n",
      "Inserido: 2025-01-24 13:00\n",
      "Inserido: 2025-01-24 12:30\n",
      "Inserido: 2025-01-24 12:00\n",
      "Inserido: 2025-01-24 11:30\n",
      "Inserido: 2025-01-24 11:00\n",
      "Inserido: 2025-01-24 10:30\n",
      "Inserido: 2025-01-24 10:00\n",
      "Inserido: 2025-01-24 09:30\n",
      "Inserido: 2025-01-24 09:00\n",
      "Inserido: 2025-01-24 08:30\n",
      "Inserido: 2025-01-24 08:00\n",
      "Inserido: 2025-01-24 07:30\n",
      "Inserido: 2025-01-24 07:00\n",
      "Inserido: 2025-01-24 06:30\n",
      "Inserido: 2025-01-24 06:00\n",
      "Inserido: 2025-01-24 05:30\n",
      "Inserido: 2025-01-24 05:00\n",
      "Inserido: 2025-01-24 04:30\n",
      "Inserido: 2025-01-24 04:00\n",
      "Inserido: 2025-01-23 19:30\n",
      "Inserido: 2025-01-23 19:00\n",
      "Inserido: 2025-01-23 18:30\n",
      "Inserido: 2025-01-23 18:00\n",
      "Finishing consumer.\n"
     ]
    }
   ],
   "source": [
    "from confluent_kafka import Consumer\n",
    "import psycopg2\n",
    "import json\n",
    "\n",
    "consumer_config = {\n",
    "    'bootstrap.servers': 'localhost:9092',\n",
    "    'group.id': 'postgres-consumer',\n",
    "    'auto.offset.reset': 'earliest'\n",
    "}\n",
    "consumer = Consumer(consumer_config)\n",
    "consumer.subscribe(['stock_data_topic'])\n",
    "\n",
    "connection = psycopg2.connect(**db_config)\n",
    "cursor = connection.cursor()\n",
    "\n",
    "try:\n",
    "    while True:\n",
    "        msg = consumer.poll(1.0)  #this says to wait 1 second for mensage \n",
    "        if msg is None:\n",
    "            continue\n",
    "        if msg.error():\n",
    "            print(msg.error())\n",
    "            continue\n",
    "\n",
    "        record = json.loads(msg.value().decode('utf-8'))\n",
    "        insert_query = \"\"\"\n",
    "        INSERT INTO stock_data (symbol, timestamp, open, high, low, close, volume)\n",
    "        VALUES (%s, %s, %s, %s, %s, %s, %s)\n",
    "        ON CONFLICT (symbol, timestamp) DO NOTHING;\n",
    "        \"\"\"\n",
    "        cursor.execute(insert_query, (\n",
    "            record[\"symbol\"], record[\"timestamp\"], record[\"open\"],\n",
    "            record[\"high\"], record[\"low\"], record[\"close\"], record[\"volume\"]\n",
    "        ))\n",
    "        connection.commit()\n",
    "        print(f\"Inserido: {record['timestamp']}\")\n",
    "\n",
    "except KeyboardInterrupt:\n",
    "    print(\"Finishing consumer.\")\n",
    "\n",
    "finally:\n",
    "    consumer.close()\n",
    "    cursor.close()\n",
    "    connection.close()"
   ]
  },
  {
   "cell_type": "markdown",
   "metadata": {},
   "source": [
    "**CONSULT DATA**"
   ]
  },
  {
   "cell_type": "code",
   "execution_count": 55,
   "metadata": {},
   "outputs": [
    {
     "name": "stdout",
     "output_type": "stream",
     "text": [
      "shape: (5, 8)\n",
      "┌─────┬────────┬──────────────┬──────────────┬──────────────┬──────────────┬──────────────┬────────┐\n",
      "│ id  ┆ symbol ┆ timestamp    ┆ open         ┆ high         ┆ low          ┆ close        ┆ volume │\n",
      "│ --- ┆ ---    ┆ ---          ┆ ---          ┆ ---          ┆ ---          ┆ ---          ┆ ---    │\n",
      "│ i64 ┆ str    ┆ datetime[μs] ┆ decimal[*,4] ┆ decimal[*,4] ┆ decimal[*,4] ┆ decimal[*,4] ┆ i64    │\n",
      "╞═════╪════════╪══════════════╪══════════════╪══════════════╪══════════════╪══════════════╪════════╡\n",
      "│ 800 ┆ IBM    ┆ 2025-01-23   ┆ 225.7500     ┆ 225.9800     ┆ 225.7500     ┆ 225.9800     ┆ 53     │\n",
      "│     ┆        ┆ 18:00:00     ┆              ┆              ┆              ┆              ┆        │\n",
      "│ 799 ┆ IBM    ┆ 2025-01-23   ┆ 226.0400     ┆ 226.0400     ┆ 225.7700     ┆ 225.7700     ┆ 690546 │\n",
      "│     ┆        ┆ 18:30:00     ┆              ┆              ┆              ┆              ┆        │\n",
      "│ 798 ┆ IBM    ┆ 2025-01-23   ┆ 226.0400     ┆ 226.0400     ┆ 225.8300     ┆ 226.0000     ┆ 690259 │\n",
      "│     ┆        ┆ 19:00:00     ┆              ┆              ┆              ┆              ┆        │\n",
      "│ 797 ┆ IBM    ┆ 2025-01-23   ┆ 226.0000     ┆ 226.0400     ┆ 225.8733     ┆ 226.0000     ┆ 1707   │\n",
      "│     ┆        ┆ 19:30:00     ┆              ┆              ┆              ┆              ┆        │\n",
      "│ 796 ┆ IBM    ┆ 2025-01-24   ┆ 226.5700     ┆ 226.8500     ┆ 225.8000     ┆ 226.5200     ┆ 217    │\n",
      "│     ┆        ┆ 04:00:00     ┆              ┆              ┆              ┆              ┆        │\n",
      "└─────┴────────┴──────────────┴──────────────┴──────────────┴──────────────┴──────────────┴────────┘\n"
     ]
    },
    {
     "name": "stderr",
     "output_type": "stream",
     "text": [
      "C:\\Users\\ruanw\\AppData\\Local\\Temp\\ipykernel_1420\\1105828744.py:14: DataOrientationWarning: Row orientation inferred during DataFrame construction. Explicitly specify the orientation by passing `orient=\"row\"` to silence this warning.\n",
      "  df = pl.DataFrame(rows, schema=columns)\n"
     ]
    }
   ],
   "source": [
    "import psycopg2\n",
    "import polars as pl\n",
    "\n",
    "connection = psycopg2.connect(**db_config)\n",
    "cursor = connection.cursor()\n",
    "\n",
    "query = \"SELECT * FROM stock_data ORDER BY timestamp LIMIT 10;\"\n",
    "cursor.execute(query)\n",
    "\n",
    "rows = cursor.fetchall()\n",
    "\n",
    "columns = [desc[0] for desc in cursor.description]\n",
    "\n",
    "df = pl.DataFrame(rows, schema=columns)\n",
    "\n",
    "print(df.head())\n",
    "\n",
    "cursor.close()\n",
    "connection.close()"
   ]
  }
 ],
 "metadata": {
  "kernelspec": {
   "display_name": "Python 3",
   "language": "python",
   "name": "python3"
  },
  "language_info": {
   "codemirror_mode": {
    "name": "ipython",
    "version": 3
   },
   "file_extension": ".py",
   "mimetype": "text/x-python",
   "name": "python",
   "nbconvert_exporter": "python",
   "pygments_lexer": "ipython3",
   "version": "3.12.6"
  }
 },
 "nbformat": 4,
 "nbformat_minor": 2
}
