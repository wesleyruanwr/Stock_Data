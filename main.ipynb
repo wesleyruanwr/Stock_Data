{
 "cells": [
  {
   "cell_type": "markdown",
   "metadata": {},
   "source": [
    "**INSTALL PYSPARK**"
   ]
  },
  {
   "cell_type": "code",
   "execution_count": 1,
   "metadata": {},
   "outputs": [
    {
     "name": "stdout",
     "output_type": "stream",
     "text": [
      "Requirement already satisfied: pyspark in c:\\users\\ruanw\\appdata\\local\\programs\\python\\python311\\lib\\site-packages (3.5.4)\n",
      "Requirement already satisfied: py4j==0.10.9.7 in c:\\users\\ruanw\\appdata\\local\\programs\\python\\python311\\lib\\site-packages (from pyspark) (0.10.9.7)\n",
      "Requirement already satisfied: requests in c:\\users\\ruanw\\appdata\\local\\programs\\python\\python311\\lib\\site-packages (2.32.3)\n",
      "Requirement already satisfied: charset-normalizer<4,>=2 in c:\\users\\ruanw\\appdata\\local\\programs\\python\\python311\\lib\\site-packages (from requests) (3.4.1)\n",
      "Requirement already satisfied: idna<4,>=2.5 in c:\\users\\ruanw\\appdata\\local\\programs\\python\\python311\\lib\\site-packages (from requests) (3.10)\n",
      "Requirement already satisfied: urllib3<3,>=1.21.1 in c:\\users\\ruanw\\appdata\\local\\programs\\python\\python311\\lib\\site-packages (from requests) (2.3.0)\n",
      "Requirement already satisfied: certifi>=2017.4.17 in c:\\users\\ruanw\\appdata\\local\\programs\\python\\python311\\lib\\site-packages (from requests) (2025.1.31)\n",
      "Requirement already satisfied: confluent_kafka in c:\\users\\ruanw\\appdata\\local\\programs\\python\\python311\\lib\\site-packages (2.8.0)\n"
     ]
    }
   ],
   "source": [
    "! pip install pyspark\n",
    "! pip install requests\n",
    "! pip install confluent_kafka"
   ]
  },
  {
   "cell_type": "markdown",
   "metadata": {},
   "source": [
    "**START SPARK SESSION**"
   ]
  },
  {
   "cell_type": "code",
   "execution_count": 2,
   "metadata": {},
   "outputs": [],
   "source": [
    "from pyspark.sql import SparkSession\n",
    "\n",
    "spark = SparkSession.builder \\\n",
    "    .appName(\"StockDataProject\") \\\n",
    "    .getOrCreate()"
   ]
  },
  {
   "cell_type": "markdown",
   "metadata": {},
   "source": [
    "**API REQUEST - BATCH PROCESSING**"
   ]
  },
  {
   "cell_type": "code",
   "execution_count": 3,
   "metadata": {},
   "outputs": [
    {
     "name": "stdout",
     "output_type": "stream",
     "text": [
      "{'Meta Data': {'1. Information': 'Intraday (30min) open, high, low, close prices and volume', '2. Symbol': 'IBM', '3. Last Refreshed': '2025-02-05 19:30:00', '4. Interval': '30min', '5. Output Size': 'Compact', '6. Time Zone': 'US/Eastern'}, 'Time Series (30min)': {'2025-02-05 19:30:00': {'1. open': '263.5000', '2. high': '265.0000', '3. low': '262.7500', '4. close': '264.2000', '5. volume': '635'}, '2025-02-05 19:00:00': {'1. open': '263.3000', '2. high': '265.0000', '3. low': '263.1300', '4. close': '263.1300', '5. volume': '1846788'}, '2025-02-05 18:30:00': {'1. open': '263.3000', '2. high': '263.7900', '3. low': '263.3000', '4. close': '263.3000', '5. volume': '1846601'}, '2025-02-05 18:00:00': {'1. open': '263.5700', '2. high': '263.8000', '3. low': '262.7500', '4. close': '263.8000', '5. volume': '262'}, '2025-02-05 17:30:00': {'1. open': '263.8000', '2. high': '263.8000', '3. low': '263.0100', '4. close': '263.2600', '5. volume': '750'}, '2025-02-05 17:00:00': {'1. open': '262.9207', '2. high': '264.8525', '3. low': '262.8000', '4. close': '263.0200', '5. volume': '73462'}, '2025-02-05 16:30:00': {'1. open': '262.9400', '2. high': '264.1400', '3. low': '262.8000', '4. close': '264.1400', '5. volume': '2389'}, '2025-02-05 16:00:00': {'1. open': '263.3500', '2. high': '265.0000', '3. low': '262.7501', '4. close': '264.9000', '5. volume': '5697473'}, '2025-02-05 15:30:00': {'1. open': '264.1000', '2. high': '264.5200', '3. low': '262.8900', '4. close': '263.3500', '5. volume': '643817'}, '2025-02-05 15:00:00': {'1. open': '263.7019', '2. high': '264.6490', '3. low': '263.6072', '4. close': '264.1500', '5. volume': '297902'}, '2025-02-05 14:30:00': {'1. open': '263.0300', '2. high': '263.7100', '3. low': '262.9100', '4. close': '263.7000', '5. volume': '355788'}, '2025-02-05 14:00:00': {'1. open': '261.3500', '2. high': '263.0970', '3. low': '261.1800', '4. close': '263.0700', '5. volume': '216978'}, '2025-02-05 13:30:00': {'1. open': '262.1300', '2. high': '262.2765', '3. low': '261.2400', '4. close': '261.4300', '5. volume': '183632'}, '2025-02-05 13:00:00': {'1. open': '262.8699', '2. high': '262.9700', '3. low': '261.8501', '4. close': '262.1200', '5. volume': '303914'}, '2025-02-05 12:30:00': {'1. open': '263.4700', '2. high': '263.9000', '3. low': '262.6500', '4. close': '262.8100', '5. volume': '247372'}, '2025-02-05 12:00:00': {'1. open': '263.6600', '2. high': '264.0600', '3. low': '263.4072', '4. close': '263.5500', '5. volume': '181898'}, '2025-02-05 11:30:00': {'1. open': '262.7900', '2. high': '263.8900', '3. low': '262.3500', '4. close': '263.6000', '5. volume': '182543'}, '2025-02-05 11:00:00': {'1. open': '263.2700', '2. high': '263.5600', '3. low': '262.0000', '4. close': '262.7300', '5. volume': '208467'}, '2025-02-05 10:30:00': {'1. open': '263.0500', '2. high': '264.2900', '3. low': '262.7400', '4. close': '263.2500', '5. volume': '211730'}, '2025-02-05 10:00:00': {'1. open': '262.5400', '2. high': '263.8400', '3. low': '262.0900', '4. close': '263.1300', '5. volume': '388178'}, '2025-02-05 09:30:00': {'1. open': '265.7100', '2. high': '265.7200', '3. low': '261.7525', '4. close': '262.3400', '5. volume': '590599'}, '2025-02-05 09:00:00': {'1. open': '264.2000', '2. high': '265.0400', '3. low': '263.9000', '4. close': '265.0400', '5. volume': '5855'}, '2025-02-05 08:30:00': {'1. open': '264.2800', '2. high': '264.4600', '3. low': '263.9000', '4. close': '264.2400', '5. volume': '55250'}, '2025-02-05 08:00:00': {'1. open': '264.4000', '2. high': '265.3988', '3. low': '259.0012', '4. close': '264.3000', '5. volume': '6013'}, '2025-02-05 07:30:00': {'1. open': '264.2400', '2. high': '264.4200', '3. low': '264.2100', '4. close': '264.2100', '5. volume': '700'}, '2025-02-05 07:00:00': {'1. open': '264.5000', '2. high': '264.7000', '3. low': '264.2000', '4. close': '264.2200', '5. volume': '198'}, '2025-02-05 06:30:00': {'1. open': '264.1100', '2. high': '264.9400', '3. low': '263.7400', '4. close': '264.1500', '5. volume': '916'}, '2025-02-05 06:00:00': {'1. open': '263.6500', '2. high': '264.0500', '3. low': '263.6500', '4. close': '264.0000', '5. volume': '208'}, '2025-02-05 05:30:00': {'1. open': '263.5000', '2. high': '263.6700', '3. low': '263.4100', '4. close': '263.6500', '5. volume': '357'}, '2025-02-05 05:00:00': {'1. open': '263.7500', '2. high': '263.7500', '3. low': '263.4000', '4. close': '263.6100', '5. volume': '91'}, '2025-02-05 04:30:00': {'1. open': '263.3900', '2. high': '263.8500', '3. low': '263.3900', '4. close': '263.4300', '5. volume': '65'}, '2025-02-05 04:00:00': {'1. open': '263.6000', '2. high': '264.8500', '3. low': '263.0000', '4. close': '263.8000', '5. volume': '1208'}, '2025-02-04 19:30:00': {'1. open': '263.6700', '2. high': '264.4600', '3. low': '263.6700', '4. close': '264.0000', '5. volume': '410'}, '2025-02-04 19:00:00': {'1. open': '264.4600', '2. high': '264.4600', '3. low': '263.0100', '4. close': '263.7500', '5. volume': '650878'}, '2025-02-04 18:30:00': {'1. open': '264.4600', '2. high': '264.4600', '3. low': '263.0100', '4. close': '263.5000', '5. volume': '651168'}, '2025-02-04 18:00:00': {'1. open': '263.7700', '2. high': '264.9000', '3. low': '263.7600', '4. close': '264.4600', '5. volume': '385'}, '2025-02-04 17:30:00': {'1. open': '264.5500', '2. high': '265.0000', '3. low': '263.7600', '4. close': '264.0000', '5. volume': '1574'}, '2025-02-04 17:00:00': {'1. open': '264.5200', '2. high': '265.3200', '3. low': '264.5200', '4. close': '264.5600', '5. volume': '5943'}, '2025-02-04 16:30:00': {'1. open': '264.9992', '2. high': '265.4600', '3. low': '264.1000', '4. close': '265.2500', '5. volume': '6912'}, '2025-02-04 16:00:00': {'1. open': '264.4200', '2. high': '265.4600', '3. low': '263.7600', '4. close': '265.0000', '5. volume': '2822961'}, '2025-02-04 15:30:00': {'1. open': '263.6779', '2. high': '264.5100', '3. low': '263.1300', '4. close': '264.4200', '5. volume': '976582'}, '2025-02-04 15:00:00': {'1. open': '263.4786', '2. high': '265.2500', '3. low': '262.7600', '4. close': '263.4700', '5. volume': '674698'}, '2025-02-04 14:30:00': {'1. open': '262.8950', '2. high': '264.1800', '3. low': '262.7600', '4. close': '263.4000', '5. volume': '314197'}, '2025-02-04 14:00:00': {'1. open': '262.4899', '2. high': '263.4100', '3. low': '262.0600', '4. close': '262.8800', '5. volume': '207598'}, '2025-02-04 13:30:00': {'1. open': '262.7190', '2. high': '263.7100', '3. low': '261.9400', '4. close': '262.3400', '5. volume': '303707'}, '2025-02-04 13:00:00': {'1. open': '262.0250', '2. high': '262.9250', '3. low': '261.9435', '4. close': '262.6900', '5. volume': '162374'}, '2025-02-04 12:30:00': {'1. open': '261.5300', '2. high': '262.0900', '3. low': '260.8300', '4. close': '262.0900', '5. volume': '157960'}, '2025-02-04 12:00:00': {'1. open': '260.8400', '2. high': '262.0470', '3. low': '260.7900', '4. close': '261.4505', '5. volume': '199035'}, '2025-02-04 11:30:00': {'1. open': '260.8009', '2. high': '261.3900', '3. low': '260.4800', '4. close': '260.8399', '5. volume': '175525'}, '2025-02-04 11:00:00': {'1. open': '261.6550', '2. high': '261.8600', '3. low': '260.2150', '4. close': '260.7250', '5. volume': '196552'}, '2025-02-04 10:30:00': {'1. open': '260.8500', '2. high': '262.5000', '3. low': '260.4900', '4. close': '261.6500', '5. volume': '284035'}, '2025-02-04 10:00:00': {'1. open': '259.7050', '2. high': '261.5100', '3. low': '259.6975', '4. close': '260.8876', '5. volume': '336965'}, '2025-02-04 09:30:00': {'1. open': '260.0000', '2. high': '261.8300', '3. low': '258.1233', '4. close': '259.7050', '5. volume': '526940'}, '2025-02-04 09:00:00': {'1. open': '260.7100', '2. high': '261.5000', '3. low': '260.1000', '4. close': '260.1000', '5. volume': '13009'}, '2025-02-04 08:30:00': {'1. open': '261.1000', '2. high': '261.5000', '3. low': '260.1900', '4. close': '260.7200', '5. volume': '4742'}, '2025-02-04 08:00:00': {'1. open': '260.5500', '2. high': '263.7500', '3. low': '259.0000', '4. close': '261.0200', '5. volume': '3226'}, '2025-02-04 07:30:00': {'1. open': '260.8200', '2. high': '261.0500', '3. low': '260.7600', '4. close': '261.0500', '5. volume': '386'}, '2025-02-04 07:00:00': {'1. open': '260.3900', '2. high': '261.4900', '3. low': '260.2000', '4. close': '260.6200', '5. volume': '1065'}, '2025-02-04 06:30:00': {'1. open': '260.0000', '2. high': '260.6800', '3. low': '259.3500', '4. close': '260.3500', '5. volume': '296'}, '2025-02-04 06:00:00': {'1. open': '260.8600', '2. high': '261.0000', '3. low': '258.7700', '4. close': '259.9400', '5. volume': '580'}, '2025-02-04 05:30:00': {'1. open': '260.8900', '2. high': '260.8900', '3. low': '260.7900', '4. close': '260.8600', '5. volume': '59'}, '2025-02-04 05:00:00': {'1. open': '260.6200', '2. high': '260.9900', '3. low': '260.6200', '4. close': '260.8400', '5. volume': '26'}, '2025-02-04 04:30:00': {'1. open': '261.3100', '2. high': '261.7800', '3. low': '260.0000', '4. close': '260.6300', '5. volume': '404'}, '2025-02-04 04:00:00': {'1. open': '260.2000', '2. high': '262.0100', '3. low': '259.7300', '4. close': '261.7700', '5. volume': '1034'}, '2025-02-03 19:30:00': {'1. open': '261.9300', '2. high': '263.0000', '3. low': '261.5100', '4. close': '262.0100', '5. volume': '1359'}, '2025-02-03 19:00:00': {'1. open': '260.7300', '2. high': '262.0000', '3. low': '260.7300', '4. close': '261.9878', '5. volume': '1137577'}, '2025-02-03 18:30:00': {'1. open': '260.7300', '2. high': '262.0000', '3. low': '260.7300', '4. close': '262.0000', '5. volume': '1138727'}, '2025-02-03 18:00:00': {'1. open': '261.7600', '2. high': '262.0000', '3. low': '261.5200', '4. close': '262.0000', '5. volume': '468'}, '2025-02-03 17:30:00': {'1. open': '261.5100', '2. high': '262.0000', '3. low': '260.7300', '4. close': '261.7400', '5. volume': '1582'}, '2025-02-03 17:00:00': {'1. open': '261.7000', '2. high': '262.0000', '3. low': '261.0400', '4. close': '261.5300', '5. volume': '1020'}, '2025-02-03 16:30:00': {'1. open': '261.5000', '2. high': '262.0000', '3. low': '260.7300', '4. close': '261.7000', '5. volume': '7276'}, '2025-02-03 16:00:00': {'1. open': '260.5750', '2. high': '261.9999', '3. low': '260.5000', '4. close': '261.5000', '5. volume': '3829884'}, '2025-02-03 15:30:00': {'1. open': '260.5400', '2. high': '262.0600', '3. low': '260.0800', '4. close': '260.6000', '5. volume': '1420220'}, '2025-02-03 15:00:00': {'1. open': '259.5100', '2. high': '261.3500', '3. low': '259.5000', '4. close': '260.5024', '5. volume': '826862'}, '2025-02-03 14:30:00': {'1. open': '258.6050', '2. high': '259.8899', '3. low': '258.1000', '4. close': '259.5400', '5. volume': '493866'}, '2025-02-03 14:00:00': {'1. open': '258.6700', '2. high': '258.8200', '3. low': '252.6700', '4. close': '258.6050', '5. volume': '426160'}, '2025-02-03 13:30:00': {'1. open': '258.6500', '2. high': '258.9400', '3. low': '258.1900', '4. close': '258.6700', '5. volume': '246194'}, '2025-02-03 13:00:00': {'1. open': '257.9000', '2. high': '258.7950', '3. low': '257.5400', '4. close': '258.5000', '5. volume': '286906'}, '2025-02-03 12:30:00': {'1. open': '257.7000', '2. high': '257.9900', '3. low': '256.9600', '4. close': '257.9700', '5. volume': '325303'}, '2025-02-03 12:00:00': {'1. open': '257.6850', '2. high': '257.9399', '3. low': '257.1100', '4. close': '257.7300', '5. volume': '254009'}, '2025-02-03 11:30:00': {'1. open': '257.8500', '2. high': '258.5300', '3. low': '257.2500', '4. close': '257.6850', '5. volume': '300061'}, '2025-02-03 11:00:00': {'1. open': '256.5100', '2. high': '258.0900', '3. low': '255.9600', '4. close': '257.7950', '5. volume': '389981'}, '2025-02-03 10:30:00': {'1. open': '257.7300', '2. high': '258.9400', '3. low': '256.1040', '4. close': '256.5650', '5. volume': '567584'}, '2025-02-03 10:00:00': {'1. open': '254.9850', '2. high': '257.6800', '3. low': '254.2800', '4. close': '257.6800', '5. volume': '488205'}, '2025-02-03 09:30:00': {'1. open': '252.4000', '2. high': '255.6500', '3. low': '251.8400', '4. close': '255.0800', '5. volume': '744338'}, '2025-02-03 09:00:00': {'1. open': '253.1650', '2. high': '253.5800', '3. low': '252.0000', '4. close': '252.6800', '5. volume': '16504'}, '2025-02-03 08:30:00': {'1. open': '253.3000', '2. high': '253.3800', '3. low': '252.6000', '4. close': '253.3315', '5. volume': '8294'}, '2025-02-03 08:00:00': {'1. open': '252.6000', '2. high': '255.7000', '3. low': '249.0000', '4. close': '253.3000', '5. volume': '28292'}, '2025-02-03 07:30:00': {'1. open': '252.2500', '2. high': '252.2500', '3. low': '251.6900', '4. close': '251.7900', '5. volume': '2092'}, '2025-02-03 07:00:00': {'1. open': '253.0000', '2. high': '253.3000', '3. low': '252.2000', '4. close': '252.4400', '5. volume': '4154'}, '2025-02-03 06:30:00': {'1. open': '252.8900', '2. high': '253.3000', '3. low': '252.8900', '4. close': '252.9200', '5. volume': '875'}, '2025-02-03 06:00:00': {'1. open': '252.9900', '2. high': '253.2400', '3. low': '252.9000', '4. close': '252.9700', '5. volume': '251'}, '2025-02-03 05:30:00': {'1. open': '252.0300', '2. high': '253.8100', '3. low': '252.0200', '4. close': '253.2400', '5. volume': '4224'}, '2025-02-03 05:00:00': {'1. open': '251.8400', '2. high': '252.1500', '3. low': '251.7100', '4. close': '252.1300', '5. volume': '1005'}, '2025-02-03 04:30:00': {'1. open': '252.0300', '2. high': '252.2500', '3. low': '251.8500', '4. close': '252.0500', '5. volume': '1150'}, '2025-02-03 04:00:00': {'1. open': '252.8600', '2. high': '253.1400', '3. low': '250.0000', '4. close': '252.0300', '5. volume': '3116'}, '2025-01-31 19:30:00': {'1. open': '255.6000', '2. high': '255.7100', '3. low': '254.0370', '4. close': '255.1000', '5. volume': '1063'}, '2025-01-31 19:00:00': {'1. open': '255.7000', '2. high': '255.8100', '3. low': '255.5000', '4. close': '255.6000', '5. volume': '1898311'}, '2025-01-31 18:30:00': {'1. open': '255.7000', '2. high': '256.0000', '3. low': '255.7000', '4. close': '255.7500', '5. volume': '1898164'}, '2025-01-31 18:00:00': {'1. open': '255.6000', '2. high': '255.9000', '3. low': '255.5000', '4. close': '255.6562', '5. volume': '1766'}}}\n",
      "Success!\n",
      "+------+-------------------+--------+--------+--------+------+-------+\n",
      "|symbol|          timestamp|    open|    high|     low| close| volume|\n",
      "+------+-------------------+--------+--------+--------+------+-------+\n",
      "|   IBM|2025-02-05 19:30:00|   263.5|   265.0|  262.75| 264.2|    635|\n",
      "|   IBM|2025-02-05 19:00:00|   263.3|   265.0|  263.13|263.13|1846788|\n",
      "|   IBM|2025-02-05 18:30:00|   263.3|  263.79|   263.3| 263.3|1846601|\n",
      "|   IBM|2025-02-05 18:00:00|  263.57|   263.8|  262.75| 263.8|    262|\n",
      "|   IBM|2025-02-05 17:30:00|   263.8|   263.8|  263.01|263.26|    750|\n",
      "|   IBM|2025-02-05 17:00:00|262.9207|264.8525|   262.8|263.02|  73462|\n",
      "|   IBM|2025-02-05 16:30:00|  262.94|  264.14|   262.8|264.14|   2389|\n",
      "|   IBM|2025-02-05 16:00:00|  263.35|   265.0|262.7501| 264.9|5697473|\n",
      "|   IBM|2025-02-05 15:30:00|   264.1|  264.52|  262.89|263.35| 643817|\n",
      "|   IBM|2025-02-05 15:00:00|263.7019| 264.649|263.6072|264.15| 297902|\n",
      "|   IBM|2025-02-05 14:30:00|  263.03|  263.71|  262.91| 263.7| 355788|\n",
      "|   IBM|2025-02-05 14:00:00|  261.35| 263.097|  261.18|263.07| 216978|\n",
      "|   IBM|2025-02-05 13:30:00|  262.13|262.2765|  261.24|261.43| 183632|\n",
      "|   IBM|2025-02-05 13:00:00|262.8699|  262.97|261.8501|262.12| 303914|\n",
      "|   IBM|2025-02-05 12:30:00|  263.47|   263.9|  262.65|262.81| 247372|\n",
      "|   IBM|2025-02-05 12:00:00|  263.66|  264.06|263.4072|263.55| 181898|\n",
      "|   IBM|2025-02-05 11:30:00|  262.79|  263.89|  262.35| 263.6| 182543|\n",
      "|   IBM|2025-02-05 11:00:00|  263.27|  263.56|   262.0|262.73| 208467|\n",
      "|   IBM|2025-02-05 10:30:00|  263.05|  264.29|  262.74|263.25| 211730|\n",
      "|   IBM|2025-02-05 10:00:00|  262.54|  263.84|  262.09|263.13| 388178|\n",
      "+------+-------------------+--------+--------+--------+------+-------+\n",
      "only showing top 20 rows\n",
      "\n"
     ]
    }
   ],
   "source": [
    "import requests\n",
    "import json\n",
    "\n",
    "API_KEY = \"C0YYA5Q74WFXPC45\"\n",
    "SYMBOL = \"IBM\"\n",
    "INTERVAL = \"30min\"\n",
    "url = f'https://www.alphavantage.co/query?function=TIME_SERIES_INTRADAY&symbol={SYMBOL}&interval={INTERVAL}&apikey={API_KEY}'\n",
    "\n",
    "response = requests.get(url)\n",
    "data = response.json()\n",
    "\n",
    "print(data)\n",
    "time_series_key = f\"Time Series ({INTERVAL})\"\n",
    "if time_series_key not in data:\n",
    "    print(\"Error: Invalid response or requests limit exceeded.\")\n",
    "else:\n",
    "    print(\"Success!\")\n",
    "\n",
    "records = []\n",
    "for timestamp, values in data[time_series_key].items():\n",
    "    records.append((\n",
    "        SYMBOL,\n",
    "        timestamp,\n",
    "        float(values[\"1. open\"]),\n",
    "        float(values[\"2. high\"]),\n",
    "        float(values[\"3. low\"]),\n",
    "        float(values[\"4. close\"]),\n",
    "        int(values[\"5. volume\"])\n",
    "    ))\n",
    "\n",
    "columns = [\"symbol\", \"timestamp\", \"open\", \"high\", \"low\", \"close\", \"volume\"]\n",
    "df = spark.createDataFrame(records, schema=columns)\n",
    "df.show()"
   ]
  },
  {
   "cell_type": "markdown",
   "metadata": {},
   "source": [
    "**SEND DATA TO KAFKA**"
   ]
  },
  {
   "cell_type": "code",
   "execution_count": 4,
   "metadata": {},
   "outputs": [
    {
     "name": "stdout",
     "output_type": "stream",
     "text": [
      "Data sent to Kafka!\n"
     ]
    }
   ],
   "source": [
    "from confluent_kafka import Producer\n",
    "import json\n",
    "\n",
    "producer_config = {\n",
    "    'bootstrap.servers': 'localhost:9092',\n",
    "    'client.id': 'api-producer'\n",
    "}\n",
    "producer = Producer(producer_config)\n",
    "\n",
    "topic_name = 'stock_data_topic'\n",
    "\n",
    "for row in df.collect():\n",
    "    record = {\n",
    "        \"symbol\": row[\"symbol\"],\n",
    "        \"timestamp\": row[\"timestamp\"],\n",
    "        \"open\": row[\"open\"],\n",
    "        \"high\": row[\"high\"],\n",
    "        \"low\": row[\"low\"],\n",
    "        \"close\": row[\"close\"],\n",
    "        \"volume\": row[\"volume\"]\n",
    "    }\n",
    "    producer.produce(topic_name, value=json.dumps(record))\n",
    "\n",
    "producer.flush()\n",
    "print(\"Data sent to Kafka!\")"
   ]
  },
  {
   "cell_type": "markdown",
   "metadata": {},
   "source": [
    "**CONSUME DATA FROM KAKFA USING PYSPARK**"
   ]
  },
  {
   "cell_type": "code",
   "execution_count": 5,
   "metadata": {},
   "outputs": [
    {
     "ename": "AnalysisException",
     "evalue": "Failed to find data source: kafka. Please deploy the application as per the deployment section of Structured Streaming + Kafka Integration Guide.",
     "output_type": "error",
     "traceback": [
      "\u001b[1;31m---------------------------------------------------------------------------\u001b[0m",
      "\u001b[1;31mAnalysisException\u001b[0m                         Traceback (most recent call last)",
      "Cell \u001b[1;32mIn[5], line 18\u001b[0m\n\u001b[0;32m      1\u001b[0m \u001b[38;5;28;01mfrom\u001b[39;00m\u001b[38;5;250m \u001b[39m\u001b[38;5;21;01mpyspark\u001b[39;00m\u001b[38;5;21;01m.\u001b[39;00m\u001b[38;5;21;01msql\u001b[39;00m\u001b[38;5;21;01m.\u001b[39;00m\u001b[38;5;21;01mtypes\u001b[39;00m\u001b[38;5;250m \u001b[39m\u001b[38;5;28;01mimport\u001b[39;00m StructType, StructField, StringType, DoubleType, TimestampType, IntegerType\n\u001b[0;32m      3\u001b[0m schema \u001b[38;5;241m=\u001b[39m StructType([\n\u001b[0;32m      4\u001b[0m     StructField(\u001b[38;5;124m\"\u001b[39m\u001b[38;5;124msymbol\u001b[39m\u001b[38;5;124m\"\u001b[39m, StringType()),\n\u001b[0;32m      5\u001b[0m     StructField(\u001b[38;5;124m\"\u001b[39m\u001b[38;5;124mtimestamp\u001b[39m\u001b[38;5;124m\"\u001b[39m, TimestampType()),\n\u001b[1;32m   (...)\u001b[0m\n\u001b[0;32m     10\u001b[0m     StructField(\u001b[38;5;124m\"\u001b[39m\u001b[38;5;124mvolume\u001b[39m\u001b[38;5;124m\"\u001b[39m, IntegerType())\n\u001b[0;32m     11\u001b[0m ])\n\u001b[0;32m     13\u001b[0m kafka_df \u001b[38;5;241m=\u001b[39m \u001b[43mspark\u001b[49m\u001b[43m \u001b[49m\u001b[43m\\\u001b[49m\n\u001b[0;32m     14\u001b[0m \u001b[43m    \u001b[49m\u001b[38;5;241;43m.\u001b[39;49m\u001b[43mreadStream\u001b[49m\u001b[43m \u001b[49m\u001b[43m\\\u001b[49m\n\u001b[0;32m     15\u001b[0m \u001b[43m    \u001b[49m\u001b[38;5;241;43m.\u001b[39;49m\u001b[43mformat\u001b[49m\u001b[43m(\u001b[49m\u001b[38;5;124;43m\"\u001b[39;49m\u001b[38;5;124;43mkafka\u001b[39;49m\u001b[38;5;124;43m\"\u001b[39;49m\u001b[43m)\u001b[49m\u001b[43m \u001b[49m\u001b[43m\\\u001b[49m\n\u001b[0;32m     16\u001b[0m \u001b[43m    \u001b[49m\u001b[38;5;241;43m.\u001b[39;49m\u001b[43moption\u001b[49m\u001b[43m(\u001b[49m\u001b[38;5;124;43m\"\u001b[39;49m\u001b[38;5;124;43mkafka.bootstrap.servers\u001b[39;49m\u001b[38;5;124;43m\"\u001b[39;49m\u001b[43m,\u001b[49m\u001b[43m \u001b[49m\u001b[38;5;124;43m\"\u001b[39;49m\u001b[38;5;124;43mlocalhost:9092\u001b[39;49m\u001b[38;5;124;43m\"\u001b[39;49m\u001b[43m)\u001b[49m\u001b[43m \u001b[49m\u001b[43m\\\u001b[49m\n\u001b[0;32m     17\u001b[0m \u001b[43m    \u001b[49m\u001b[38;5;241;43m.\u001b[39;49m\u001b[43moption\u001b[49m\u001b[43m(\u001b[49m\u001b[38;5;124;43m\"\u001b[39;49m\u001b[38;5;124;43msubscribe\u001b[39;49m\u001b[38;5;124;43m\"\u001b[39;49m\u001b[43m,\u001b[49m\u001b[43m \u001b[49m\u001b[38;5;124;43m\"\u001b[39;49m\u001b[38;5;124;43mstock_data_topic\u001b[39;49m\u001b[38;5;124;43m\"\u001b[39;49m\u001b[43m)\u001b[49m\u001b[43m \u001b[49m\u001b[43m\\\u001b[49m\n\u001b[1;32m---> 18\u001b[0m \u001b[43m    \u001b[49m\u001b[38;5;241;43m.\u001b[39;49m\u001b[43mload\u001b[49m\u001b[43m(\u001b[49m\u001b[43m)\u001b[49m \\\n\u001b[0;32m     19\u001b[0m     \u001b[38;5;241m.\u001b[39mselectExpr(\u001b[38;5;124m\"\u001b[39m\u001b[38;5;124mCAST(value AS STRING)\u001b[39m\u001b[38;5;124m\"\u001b[39m) \\\n\u001b[0;32m     20\u001b[0m     \u001b[38;5;241m.\u001b[39mselect(from_json(\u001b[38;5;124m\"\u001b[39m\u001b[38;5;124mvalue\u001b[39m\u001b[38;5;124m\"\u001b[39m, schema)\u001b[38;5;241m.\u001b[39malias(\u001b[38;5;124m\"\u001b[39m\u001b[38;5;124mdata\u001b[39m\u001b[38;5;124m\"\u001b[39m)) \\\n\u001b[0;32m     21\u001b[0m     \u001b[38;5;241m.\u001b[39mselect(\u001b[38;5;124m\"\u001b[39m\u001b[38;5;124mdata.*\u001b[39m\u001b[38;5;124m\"\u001b[39m)\n\u001b[0;32m     23\u001b[0m \u001b[38;5;28;01mdef\u001b[39;00m\u001b[38;5;250m \u001b[39m\u001b[38;5;21mwrite_to_postgres\u001b[39m(df, epoch_id):\n\u001b[0;32m     24\u001b[0m     df\u001b[38;5;241m.\u001b[39mwrite \\\n\u001b[0;32m     25\u001b[0m         \u001b[38;5;241m.\u001b[39mformat(\u001b[38;5;124m\"\u001b[39m\u001b[38;5;124mjdbc\u001b[39m\u001b[38;5;124m\"\u001b[39m) \\\n\u001b[0;32m     26\u001b[0m         \u001b[38;5;241m.\u001b[39moption(\u001b[38;5;124m\"\u001b[39m\u001b[38;5;124murl\u001b[39m\u001b[38;5;124m\"\u001b[39m, \u001b[38;5;124m\"\u001b[39m\u001b[38;5;124mjdbc:postgresql://localhost:5432/mydatabase\u001b[39m\u001b[38;5;124m\"\u001b[39m) \\\n\u001b[1;32m   (...)\u001b[0m\n\u001b[0;32m     30\u001b[0m         \u001b[38;5;241m.\u001b[39mmode(\u001b[38;5;124m\"\u001b[39m\u001b[38;5;124mappend\u001b[39m\u001b[38;5;124m\"\u001b[39m) \\\n\u001b[0;32m     31\u001b[0m         \u001b[38;5;241m.\u001b[39msave()\n",
      "File \u001b[1;32mc:\\Users\\ruanw\\AppData\\Local\\Programs\\Python\\Python311\\Lib\\site-packages\\pyspark\\sql\\streaming\\readwriter.py:304\u001b[0m, in \u001b[0;36mDataStreamReader.load\u001b[1;34m(self, path, format, schema, **options)\u001b[0m\n\u001b[0;32m    302\u001b[0m     \u001b[38;5;28;01mreturn\u001b[39;00m \u001b[38;5;28mself\u001b[39m\u001b[38;5;241m.\u001b[39m_df(\u001b[38;5;28mself\u001b[39m\u001b[38;5;241m.\u001b[39m_jreader\u001b[38;5;241m.\u001b[39mload(path))\n\u001b[0;32m    303\u001b[0m \u001b[38;5;28;01melse\u001b[39;00m:\n\u001b[1;32m--> 304\u001b[0m     \u001b[38;5;28;01mreturn\u001b[39;00m \u001b[38;5;28mself\u001b[39m\u001b[38;5;241m.\u001b[39m_df(\u001b[38;5;28;43mself\u001b[39;49m\u001b[38;5;241;43m.\u001b[39;49m\u001b[43m_jreader\u001b[49m\u001b[38;5;241;43m.\u001b[39;49m\u001b[43mload\u001b[49m\u001b[43m(\u001b[49m\u001b[43m)\u001b[49m)\n",
      "File \u001b[1;32mc:\\Users\\ruanw\\AppData\\Local\\Programs\\Python\\Python311\\Lib\\site-packages\\py4j\\java_gateway.py:1322\u001b[0m, in \u001b[0;36mJavaMember.__call__\u001b[1;34m(self, *args)\u001b[0m\n\u001b[0;32m   1316\u001b[0m command \u001b[38;5;241m=\u001b[39m proto\u001b[38;5;241m.\u001b[39mCALL_COMMAND_NAME \u001b[38;5;241m+\u001b[39m\\\n\u001b[0;32m   1317\u001b[0m     \u001b[38;5;28mself\u001b[39m\u001b[38;5;241m.\u001b[39mcommand_header \u001b[38;5;241m+\u001b[39m\\\n\u001b[0;32m   1318\u001b[0m     args_command \u001b[38;5;241m+\u001b[39m\\\n\u001b[0;32m   1319\u001b[0m     proto\u001b[38;5;241m.\u001b[39mEND_COMMAND_PART\n\u001b[0;32m   1321\u001b[0m answer \u001b[38;5;241m=\u001b[39m \u001b[38;5;28mself\u001b[39m\u001b[38;5;241m.\u001b[39mgateway_client\u001b[38;5;241m.\u001b[39msend_command(command)\n\u001b[1;32m-> 1322\u001b[0m return_value \u001b[38;5;241m=\u001b[39m \u001b[43mget_return_value\u001b[49m\u001b[43m(\u001b[49m\n\u001b[0;32m   1323\u001b[0m \u001b[43m    \u001b[49m\u001b[43manswer\u001b[49m\u001b[43m,\u001b[49m\u001b[43m \u001b[49m\u001b[38;5;28;43mself\u001b[39;49m\u001b[38;5;241;43m.\u001b[39;49m\u001b[43mgateway_client\u001b[49m\u001b[43m,\u001b[49m\u001b[43m \u001b[49m\u001b[38;5;28;43mself\u001b[39;49m\u001b[38;5;241;43m.\u001b[39;49m\u001b[43mtarget_id\u001b[49m\u001b[43m,\u001b[49m\u001b[43m \u001b[49m\u001b[38;5;28;43mself\u001b[39;49m\u001b[38;5;241;43m.\u001b[39;49m\u001b[43mname\u001b[49m\u001b[43m)\u001b[49m\n\u001b[0;32m   1325\u001b[0m \u001b[38;5;28;01mfor\u001b[39;00m temp_arg \u001b[38;5;129;01min\u001b[39;00m temp_args:\n\u001b[0;32m   1326\u001b[0m     \u001b[38;5;28;01mif\u001b[39;00m \u001b[38;5;28mhasattr\u001b[39m(temp_arg, \u001b[38;5;124m\"\u001b[39m\u001b[38;5;124m_detach\u001b[39m\u001b[38;5;124m\"\u001b[39m):\n",
      "File \u001b[1;32mc:\\Users\\ruanw\\AppData\\Local\\Programs\\Python\\Python311\\Lib\\site-packages\\pyspark\\errors\\exceptions\\captured.py:185\u001b[0m, in \u001b[0;36mcapture_sql_exception.<locals>.deco\u001b[1;34m(*a, **kw)\u001b[0m\n\u001b[0;32m    181\u001b[0m converted \u001b[38;5;241m=\u001b[39m convert_exception(e\u001b[38;5;241m.\u001b[39mjava_exception)\n\u001b[0;32m    182\u001b[0m \u001b[38;5;28;01mif\u001b[39;00m \u001b[38;5;129;01mnot\u001b[39;00m \u001b[38;5;28misinstance\u001b[39m(converted, UnknownException):\n\u001b[0;32m    183\u001b[0m     \u001b[38;5;66;03m# Hide where the exception came from that shows a non-Pythonic\u001b[39;00m\n\u001b[0;32m    184\u001b[0m     \u001b[38;5;66;03m# JVM exception message.\u001b[39;00m\n\u001b[1;32m--> 185\u001b[0m     \u001b[38;5;28;01mraise\u001b[39;00m converted \u001b[38;5;28;01mfrom\u001b[39;00m\u001b[38;5;250m \u001b[39m\u001b[38;5;28;01mNone\u001b[39;00m\n\u001b[0;32m    186\u001b[0m \u001b[38;5;28;01melse\u001b[39;00m:\n\u001b[0;32m    187\u001b[0m     \u001b[38;5;28;01mraise\u001b[39;00m\n",
      "\u001b[1;31mAnalysisException\u001b[0m: Failed to find data source: kafka. Please deploy the application as per the deployment section of Structured Streaming + Kafka Integration Guide."
     ]
    }
   ],
   "source": [
    "from pyspark.sql.types import StructType, StructField, StringType, DoubleType, TimestampType, IntegerType\n",
    "\n",
    "schema = StructType([\n",
    "    StructField(\"symbol\", StringType()),\n",
    "    StructField(\"timestamp\", TimestampType()),\n",
    "    StructField(\"open\", DoubleType()),\n",
    "    StructField(\"high\", DoubleType()),\n",
    "    StructField(\"low\", DoubleType()),\n",
    "    StructField(\"close\", DoubleType()),\n",
    "    StructField(\"volume\", IntegerType())\n",
    "])\n",
    "\n",
    "kafka_df = spark \\\n",
    "    .readStream \\\n",
    "    .format(\"kafka\") \\\n",
    "    .option(\"kafka.bootstrap.servers\", \"localhost:9092\") \\\n",
    "    .option(\"subscribe\", \"stock_data_topic\") \\\n",
    "    .load() \\\n",
    "    .selectExpr(\"CAST(value AS STRING)\") \\\n",
    "    .select(from_json(\"value\", schema).alias(\"data\")) \\\n",
    "    .select(\"data.*\")\n",
    "\n",
    "def write_to_postgres(df, epoch_id):\n",
    "    df.write \\\n",
    "        .format(\"jdbc\") \\\n",
    "        .option(\"url\", \"jdbc:postgresql://localhost:5432/mydatabase\") \\\n",
    "        .option(\"dbtable\", \"stock_data\") \\\n",
    "        .option(\"user\", \"root\") \\\n",
    "        .option(\"password\", \"root\") \\\n",
    "        .mode(\"append\") \\\n",
    "        .save()\n",
    "\n",
    "query = kafka_df.writeStream \\\n",
    "    .foreachBatch(write_to_postgres) \\\n",
    "    .start()\n",
    "\n",
    "query.awaitTermination()"
   ]
  },
  {
   "cell_type": "markdown",
   "metadata": {},
   "source": [
    "**QUERY DATA**"
   ]
  },
  {
   "cell_type": "code",
   "execution_count": 48,
   "metadata": {},
   "outputs": [
    {
     "name": "stdout",
     "output_type": "stream",
     "text": [
      "Inserido: 2025-01-28 19:30\n",
      "Inserido: 2025-01-28 19:00\n",
      "Inserido: 2025-01-28 18:30\n",
      "Inserido: 2025-01-28 18:00\n",
      "Inserido: 2025-01-28 17:30\n",
      "Inserido: 2025-01-28 17:00\n",
      "Inserido: 2025-01-28 16:30\n",
      "Inserido: 2025-01-28 16:00\n",
      "Inserido: 2025-01-28 15:30\n",
      "Inserido: 2025-01-28 15:00\n",
      "Inserido: 2025-01-28 14:30\n",
      "Inserido: 2025-01-28 14:00\n",
      "Inserido: 2025-01-28 13:30\n",
      "Inserido: 2025-01-28 13:00\n",
      "Inserido: 2025-01-28 12:30\n",
      "Inserido: 2025-01-28 12:00\n",
      "Inserido: 2025-01-28 11:30\n",
      "Inserido: 2025-01-28 11:00\n",
      "Inserido: 2025-01-28 10:30\n",
      "Inserido: 2025-01-28 10:00\n",
      "Inserido: 2025-01-28 09:30\n",
      "Inserido: 2025-01-28 09:00\n",
      "Inserido: 2025-01-28 08:30\n",
      "Inserido: 2025-01-28 08:00\n",
      "Inserido: 2025-01-28 07:30\n",
      "Inserido: 2025-01-28 07:00\n",
      "Inserido: 2025-01-28 06:30\n",
      "Inserido: 2025-01-28 06:00\n",
      "Inserido: 2025-01-28 05:30\n",
      "Inserido: 2025-01-28 05:00\n",
      "Inserido: 2025-01-28 04:30\n",
      "Inserido: 2025-01-28 04:00\n",
      "Inserido: 2025-01-27 19:30\n",
      "Inserido: 2025-01-27 19:00\n",
      "Inserido: 2025-01-27 18:30\n",
      "Inserido: 2025-01-27 18:00\n",
      "Inserido: 2025-01-27 17:30\n",
      "Inserido: 2025-01-27 17:00\n",
      "Inserido: 2025-01-27 16:30\n",
      "Inserido: 2025-01-27 16:00\n",
      "Inserido: 2025-01-27 15:30\n",
      "Inserido: 2025-01-27 15:00\n",
      "Inserido: 2025-01-27 14:30\n",
      "Inserido: 2025-01-27 14:00\n",
      "Inserido: 2025-01-27 13:30\n",
      "Inserido: 2025-01-27 13:00\n",
      "Inserido: 2025-01-27 12:30\n",
      "Inserido: 2025-01-27 12:00\n",
      "Inserido: 2025-01-27 11:30\n",
      "Inserido: 2025-01-27 11:00\n",
      "Inserido: 2025-01-27 10:30\n",
      "Inserido: 2025-01-27 10:00\n",
      "Inserido: 2025-01-27 09:30\n",
      "Inserido: 2025-01-27 09:00\n",
      "Inserido: 2025-01-27 08:30\n",
      "Inserido: 2025-01-27 08:00\n",
      "Inserido: 2025-01-27 07:30\n",
      "Inserido: 2025-01-27 07:00\n",
      "Inserido: 2025-01-27 06:30\n",
      "Inserido: 2025-01-27 06:00\n",
      "Inserido: 2025-01-27 05:30\n",
      "Inserido: 2025-01-27 05:00\n",
      "Inserido: 2025-01-27 04:30\n",
      "Inserido: 2025-01-27 04:00\n",
      "Inserido: 2025-01-24 19:30\n",
      "Inserido: 2025-01-24 19:00\n",
      "Inserido: 2025-01-24 18:30\n",
      "Inserido: 2025-01-24 18:00\n",
      "Inserido: 2025-01-24 17:30\n",
      "Inserido: 2025-01-24 17:00\n",
      "Inserido: 2025-01-24 16:30\n",
      "Inserido: 2025-01-24 16:00\n",
      "Inserido: 2025-01-24 15:30\n",
      "Inserido: 2025-01-24 15:00\n",
      "Inserido: 2025-01-24 14:30\n",
      "Inserido: 2025-01-24 14:00\n",
      "Inserido: 2025-01-24 13:30\n",
      "Inserido: 2025-01-24 13:00\n",
      "Inserido: 2025-01-24 12:30\n",
      "Inserido: 2025-01-24 12:00\n",
      "Inserido: 2025-01-24 11:30\n",
      "Inserido: 2025-01-24 11:00\n",
      "Inserido: 2025-01-24 10:30\n",
      "Inserido: 2025-01-24 10:00\n",
      "Inserido: 2025-01-24 09:30\n",
      "Inserido: 2025-01-24 09:00\n",
      "Inserido: 2025-01-24 08:30\n",
      "Inserido: 2025-01-24 08:00\n",
      "Inserido: 2025-01-24 07:30\n",
      "Inserido: 2025-01-24 07:00\n",
      "Inserido: 2025-01-24 06:30\n",
      "Inserido: 2025-01-24 06:00\n",
      "Inserido: 2025-01-24 05:30\n",
      "Inserido: 2025-01-24 05:00\n",
      "Inserido: 2025-01-24 04:30\n",
      "Inserido: 2025-01-24 04:00\n",
      "Inserido: 2025-01-23 19:30\n",
      "Inserido: 2025-01-23 19:00\n",
      "Inserido: 2025-01-23 18:30\n",
      "Inserido: 2025-01-23 18:00\n",
      "Finishing consumer.\n"
     ]
    }
   ],
   "source": [
    "df = spark.read \\\n",
    "    .format(\"jdbc\") \\\n",
    "    .option(\"url\", \"jdbc:postgresql://localhost:5432/mydatabase\") \\\n",
    "    .option(\"dbtable\", \"stock_data\") \\\n",
    "    .option(\"user\", \"root\") \\\n",
    "    .option(\"password\", \"root\") \\\n",
    "    .load()\n",
    "\n",
    "df.show(10)"
   ]
  },
  {
   "cell_type": "markdown",
   "metadata": {},
   "source": [
    "**FINISH SPARK SESSION**"
   ]
  },
  {
   "cell_type": "code",
   "execution_count": 55,
   "metadata": {},
   "outputs": [
    {
     "name": "stdout",
     "output_type": "stream",
     "text": [
      "shape: (5, 8)\n",
      "┌─────┬────────┬──────────────┬──────────────┬──────────────┬──────────────┬──────────────┬────────┐\n",
      "│ id  ┆ symbol ┆ timestamp    ┆ open         ┆ high         ┆ low          ┆ close        ┆ volume │\n",
      "│ --- ┆ ---    ┆ ---          ┆ ---          ┆ ---          ┆ ---          ┆ ---          ┆ ---    │\n",
      "│ i64 ┆ str    ┆ datetime[μs] ┆ decimal[*,4] ┆ decimal[*,4] ┆ decimal[*,4] ┆ decimal[*,4] ┆ i64    │\n",
      "╞═════╪════════╪══════════════╪══════════════╪══════════════╪══════════════╪══════════════╪════════╡\n",
      "│ 800 ┆ IBM    ┆ 2025-01-23   ┆ 225.7500     ┆ 225.9800     ┆ 225.7500     ┆ 225.9800     ┆ 53     │\n",
      "│     ┆        ┆ 18:00:00     ┆              ┆              ┆              ┆              ┆        │\n",
      "│ 799 ┆ IBM    ┆ 2025-01-23   ┆ 226.0400     ┆ 226.0400     ┆ 225.7700     ┆ 225.7700     ┆ 690546 │\n",
      "│     ┆        ┆ 18:30:00     ┆              ┆              ┆              ┆              ┆        │\n",
      "│ 798 ┆ IBM    ┆ 2025-01-23   ┆ 226.0400     ┆ 226.0400     ┆ 225.8300     ┆ 226.0000     ┆ 690259 │\n",
      "│     ┆        ┆ 19:00:00     ┆              ┆              ┆              ┆              ┆        │\n",
      "│ 797 ┆ IBM    ┆ 2025-01-23   ┆ 226.0000     ┆ 226.0400     ┆ 225.8733     ┆ 226.0000     ┆ 1707   │\n",
      "│     ┆        ┆ 19:30:00     ┆              ┆              ┆              ┆              ┆        │\n",
      "│ 796 ┆ IBM    ┆ 2025-01-24   ┆ 226.5700     ┆ 226.8500     ┆ 225.8000     ┆ 226.5200     ┆ 217    │\n",
      "│     ┆        ┆ 04:00:00     ┆              ┆              ┆              ┆              ┆        │\n",
      "└─────┴────────┴──────────────┴──────────────┴──────────────┴──────────────┴──────────────┴────────┘\n"
     ]
    },
    {
     "name": "stderr",
     "output_type": "stream",
     "text": [
      "C:\\Users\\ruanw\\AppData\\Local\\Temp\\ipykernel_1420\\1105828744.py:14: DataOrientationWarning: Row orientation inferred during DataFrame construction. Explicitly specify the orientation by passing `orient=\"row\"` to silence this warning.\n",
      "  df = pl.DataFrame(rows, schema=columns)\n"
     ]
    }
   ],
   "source": [
    "spark.stop()"
   ]
  }
 ],
 "metadata": {
  "kernelspec": {
   "display_name": "Python 3",
   "language": "python",
   "name": "python3"
  },
  "language_info": {
   "codemirror_mode": {
    "name": "ipython",
    "version": 3
   },
   "file_extension": ".py",
   "mimetype": "text/x-python",
   "name": "python",
   "nbconvert_exporter": "python",
   "pygments_lexer": "ipython3",
   "version": "3.11.8"
  }
 },
 "nbformat": 4,
 "nbformat_minor": 2
}
