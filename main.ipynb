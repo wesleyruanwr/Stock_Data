{
 "cells": [
  {
   "cell_type": "markdown",
   "metadata": {},
   "source": [
    "**INSTALL LIBRARIES**"
   ]
  },
  {
   "cell_type": "code",
   "execution_count": 18,
   "metadata": {},
   "outputs": [
    {
     "name": "stdout",
     "output_type": "stream",
     "text": [
      "Requirement already satisfied: polars in c:\\users\\ruanw\\appdata\\local\\programs\\python\\python312\\lib\\site-packages (1.21.0)\n"
     ]
    },
    {
     "name": "stderr",
     "output_type": "stream",
     "text": [
      "\n",
      "[notice] A new release of pip is available: 24.2 -> 25.0\n",
      "[notice] To update, run: python.exe -m pip install --upgrade pip\n"
     ]
    },
    {
     "name": "stdout",
     "output_type": "stream",
     "text": [
      "Requirement already satisfied: requests in c:\\users\\ruanw\\appdata\\local\\programs\\python\\python312\\lib\\site-packages (2.32.3)\n",
      "Requirement already satisfied: charset-normalizer<4,>=2 in c:\\users\\ruanw\\appdata\\local\\programs\\python\\python312\\lib\\site-packages (from requests) (3.4.1)\n",
      "Requirement already satisfied: idna<4,>=2.5 in c:\\users\\ruanw\\appdata\\local\\programs\\python\\python312\\lib\\site-packages (from requests) (3.10)\n",
      "Requirement already satisfied: urllib3<3,>=1.21.1 in c:\\users\\ruanw\\appdata\\local\\programs\\python\\python312\\lib\\site-packages (from requests) (2.3.0)\n",
      "Requirement already satisfied: certifi>=2017.4.17 in c:\\users\\ruanw\\appdata\\local\\programs\\python\\python312\\lib\\site-packages (from requests) (2024.12.14)\n"
     ]
    },
    {
     "name": "stderr",
     "output_type": "stream",
     "text": [
      "\n",
      "[notice] A new release of pip is available: 24.2 -> 25.0\n",
      "[notice] To update, run: python.exe -m pip install --upgrade pip\n"
     ]
    }
   ],
   "source": [
    "! pip install polars\n",
    "! pip install requests"
   ]
  },
  {
   "cell_type": "markdown",
   "metadata": {},
   "source": [
    "**DATABASE CONNECTION SETUP**"
   ]
  },
  {
   "cell_type": "code",
   "execution_count": 19,
   "metadata": {},
   "outputs": [
    {
     "name": "stdout",
     "output_type": "stream",
     "text": [
      "Connected!\n"
     ]
    }
   ],
   "source": [
    "import psycopg2\n",
    "from psycopg2.extras import execute_values\n",
    "\n",
    "db_config = {\n",
    "    'dbname': 'mydatabase',\n",
    "    'user': 'root',\n",
    "    'password': 'root',\n",
    "    'host': 'localhost',\n",
    "    'port': 5432\n",
    "}\n",
    "\n",
    "connection = psycopg2.connect(**db_config)\n",
    "print(\"Connected!\")\n"
   ]
  },
  {
   "cell_type": "markdown",
   "metadata": {},
   "source": [
    "**CREATE TABLE AND ADD DATA WITH ERROR HANDLING**"
   ]
  },
  {
   "cell_type": "code",
   "execution_count": 20,
   "metadata": {},
   "outputs": [
    {
     "name": "stdout",
     "output_type": "stream",
     "text": [
      "Table ensured!\n"
     ]
    }
   ],
   "source": [
    "try:\n",
    "    cursor = connection.cursor()\n",
    "\n",
    "    create_table_query = \"\"\"\n",
    "    CREATE TABLE IF NOT EXISTS stock_data (\n",
    "        id SERIAL PRIMARY KEY,\n",
    "        symbol VARCHAR(10) NOT NULL,\n",
    "        timestamp TIMESTAMP(0) WITHOUT TIME ZONE NOT NULL,\n",
    "        open DECIMAL(10,4),\n",
    "        high DECIMAL(10,4),\n",
    "        low DECIMAL(10,4),\n",
    "        close DECIMAL(10,4),\n",
    "        volume BIGINT,\n",
    "        UNIQUE(symbol, timestamp)\n",
    "    );\n",
    "    \"\"\"\n",
    "    cursor.execute(create_table_query)\n",
    "    connection.commit()\n",
    "    print(\"Table ensured!\")\n",
    "\n",
    "except Exception as e:\n",
    "    print(\"Error during table creation:\", e)\n"
   ]
  },
  {
   "cell_type": "markdown",
   "metadata": {},
   "source": [
    "**REQUEST FROM APLHAVANTAGE API WITH ERROR HANDLING**"
   ]
  },
  {
   "cell_type": "code",
   "execution_count": 21,
   "metadata": {},
   "outputs": [
    {
     "name": "stdout",
     "output_type": "stream",
     "text": [
      "[{'symbol': 'IBM', 'timestamp': '2025-01-28 19:55', 'open': 225.5, 'high': 225.5, 'low': 225.5, 'close': 225.5, 'volume': 20}, {'symbol': 'IBM', 'timestamp': '2025-01-28 19:50', 'open': 225.55, 'high': 225.55, 'low': 225.55, 'close': 225.55, 'volume': 17}, {'symbol': 'IBM', 'timestamp': '2025-01-28 19:45', 'open': 225.3562, 'high': 225.55, 'low': 225.3501, 'close': 225.55, 'volume': 11}, {'symbol': 'IBM', 'timestamp': '2025-01-28 19:40', 'open': 225.54, 'high': 225.55, 'low': 225.35, 'close': 225.55, 'volume': 65}, {'symbol': 'IBM', 'timestamp': '2025-01-28 19:35', 'open': 225.54, 'high': 225.54, 'low': 225.54, 'close': 225.54, 'volume': 1}]\n"
     ]
    }
   ],
   "source": [
    "import requests\n",
    "from datetime import datetime\n",
    "\n",
    "API_KEY = \"42JIJGRH51L2GBTP\"\n",
    "SYMBOL = \"IBM\"\n",
    "INTERVAL = \"5min\"\n",
    "url = f'https://www.alphavantage.co/query?function=TIME_SERIES_INTRADAY&symbol={SYMBOL}&interval={INTERVAL}&apikey={API_KEY}'\n",
    "\n",
    "r = requests.get(url)\n",
    "data = r.json()\n",
    "\n",
    "time_series_key = f\"Time Series ({INTERVAL})\"\n",
    "if time_series_key not in data:\n",
    "    print(\"Error: Invalid API response or rate limit exceeded.\")\n",
    "    exit()\n",
    "\n",
    "time_series = data[time_series_key]\n",
    "\n",
    "records = []\n",
    "for timestamp, values in time_series.items():\n",
    "    dt_obj = datetime.strptime(timestamp, \"%Y-%m-%d %H:%M:%S\")\n",
    "    formatted_timestamp = dt_obj.strftime(\"%Y-%m-%d %H:%M\")\n",
    "\n",
    "    records.append({\n",
    "        \"symbol\": SYMBOL,\n",
    "        \"timestamp\": formatted_timestamp,\n",
    "        \"open\": float(values[\"1. open\"]),\n",
    "        \"high\": float(values[\"2. high\"]),\n",
    "        \"low\": float(values[\"3. low\"]),\n",
    "        \"close\": float(values[\"4. close\"]),\n",
    "        \"volume\": int(values[\"5. volume\"])\n",
    "    })\n",
    "\n",
    "print(records[:5])\n"
   ]
  },
  {
   "cell_type": "markdown",
   "metadata": {},
   "source": [
    "**INSERT DATA INTO TABLE WITH ERROR HANDLING**"
   ]
  },
  {
   "cell_type": "code",
   "execution_count": 22,
   "metadata": {},
   "outputs": [
    {
     "name": "stdout",
     "output_type": "stream",
     "text": [
      "Data inserted successfully!\n"
     ]
    }
   ],
   "source": [
    "try:\n",
    "    insert_query = \"\"\"\n",
    "    INSERT INTO stock_data (symbol, timestamp, open, high, low, close, volume)\n",
    "    VALUES %s\n",
    "    ON CONFLICT (symbol, timestamp) DO NOTHING;\n",
    "    \"\"\"\n",
    "    \n",
    "    values = [\n",
    "        (row[\"symbol\"], row[\"timestamp\"], row[\"open\"], row[\"high\"], row[\"low\"], row[\"close\"], row[\"volume\"])\n",
    "        for row in records\n",
    "    ]\n",
    "    \n",
    "    execute_values(cursor, insert_query, values)\n",
    "\n",
    "    connection.commit()\n",
    "    print(\"Data inserted successfully!\")\n",
    "\n",
    "except Exception as e:\n",
    "    print(\"Error inserting data:\", e)\n",
    "\n",
    "finally:\n",
    "    cursor.close()\n",
    "    connection.close()\n"
   ]
  }
 ],
 "metadata": {
  "kernelspec": {
   "display_name": "Python 3",
   "language": "python",
   "name": "python3"
  },
  "language_info": {
   "codemirror_mode": {
    "name": "ipython",
    "version": 3
   },
   "file_extension": ".py",
   "mimetype": "text/x-python",
   "name": "python",
   "nbconvert_exporter": "python",
   "pygments_lexer": "ipython3",
   "version": "3.12.6"
  }
 },
 "nbformat": 4,
 "nbformat_minor": 2
}
